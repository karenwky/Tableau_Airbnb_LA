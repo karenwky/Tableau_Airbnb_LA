{
 "cells": [
  {
   "cell_type": "markdown",
   "metadata": {},
   "source": [
    "## Delete the dollar sign for price and adjusted_price columns"
   ]
  },
  {
   "cell_type": "code",
   "execution_count": 1,
   "metadata": {},
   "outputs": [
    {
     "data": {
      "text/html": [
       "<div>\n",
       "<style scoped>\n",
       "    .dataframe tbody tr th:only-of-type {\n",
       "        vertical-align: middle;\n",
       "    }\n",
       "\n",
       "    .dataframe tbody tr th {\n",
       "        vertical-align: top;\n",
       "    }\n",
       "\n",
       "    .dataframe thead th {\n",
       "        text-align: right;\n",
       "    }\n",
       "</style>\n",
       "<table border=\"1\" class=\"dataframe\">\n",
       "  <thead>\n",
       "    <tr style=\"text-align: right;\">\n",
       "      <th></th>\n",
       "      <th>listing_id</th>\n",
       "      <th>date</th>\n",
       "      <th>available</th>\n",
       "      <th>price</th>\n",
       "      <th>adjusted_price</th>\n",
       "      <th>minimum_nights</th>\n",
       "      <th>maximum_nights</th>\n",
       "    </tr>\n",
       "  </thead>\n",
       "  <tbody>\n",
       "    <tr>\n",
       "      <th>0</th>\n",
       "      <td>26082</td>\n",
       "      <td>2019-07-08</td>\n",
       "      <td>f</td>\n",
       "      <td>$55.00</td>\n",
       "      <td>$55.00</td>\n",
       "      <td>3.0</td>\n",
       "      <td>28.0</td>\n",
       "    </tr>\n",
       "    <tr>\n",
       "      <th>1</th>\n",
       "      <td>109</td>\n",
       "      <td>2019-07-09</td>\n",
       "      <td>f</td>\n",
       "      <td>$115.00</td>\n",
       "      <td>$115.00</td>\n",
       "      <td>30.0</td>\n",
       "      <td>730.0</td>\n",
       "    </tr>\n",
       "    <tr>\n",
       "      <th>2</th>\n",
       "      <td>109</td>\n",
       "      <td>2019-07-10</td>\n",
       "      <td>f</td>\n",
       "      <td>$115.00</td>\n",
       "      <td>$115.00</td>\n",
       "      <td>30.0</td>\n",
       "      <td>730.0</td>\n",
       "    </tr>\n",
       "    <tr>\n",
       "      <th>3</th>\n",
       "      <td>109</td>\n",
       "      <td>2019-07-11</td>\n",
       "      <td>f</td>\n",
       "      <td>$115.00</td>\n",
       "      <td>$115.00</td>\n",
       "      <td>30.0</td>\n",
       "      <td>730.0</td>\n",
       "    </tr>\n",
       "    <tr>\n",
       "      <th>4</th>\n",
       "      <td>109</td>\n",
       "      <td>2019-07-12</td>\n",
       "      <td>f</td>\n",
       "      <td>$115.00</td>\n",
       "      <td>$115.00</td>\n",
       "      <td>30.0</td>\n",
       "      <td>730.0</td>\n",
       "    </tr>\n",
       "  </tbody>\n",
       "</table>\n",
       "</div>"
      ],
      "text/plain": [
       "   listing_id        date available    price adjusted_price  minimum_nights  \\\n",
       "0       26082  2019-07-08         f   $55.00         $55.00             3.0   \n",
       "1         109  2019-07-09         f  $115.00        $115.00            30.0   \n",
       "2         109  2019-07-10         f  $115.00        $115.00            30.0   \n",
       "3         109  2019-07-11         f  $115.00        $115.00            30.0   \n",
       "4         109  2019-07-12         f  $115.00        $115.00            30.0   \n",
       "\n",
       "   maximum_nights  \n",
       "0            28.0  \n",
       "1           730.0  \n",
       "2           730.0  \n",
       "3           730.0  \n",
       "4           730.0  "
      ]
     },
     "execution_count": 1,
     "metadata": {},
     "output_type": "execute_result"
    }
   ],
   "source": [
    "import pandas as pd\n",
    "\n",
    "df = pd.read_csv('calendar.csv')\n",
    "df.head()"
   ]
  },
  {
   "cell_type": "code",
   "execution_count": 2,
   "metadata": {},
   "outputs": [],
   "source": [
    "from csv import reader\n",
    "\n",
    "opened_file = open('calendar.csv')\n",
    "read_file = reader(opened_file)\n",
    "calendar = list(read_file)\n",
    "\n",
    "for row in calendar:\n",
    "    price = row[3]\n",
    "    adjusted_price = row[4]\n",
    "    row[3] = price.replace('$', '')\n",
    "    row[4] = adjusted_price.replace('$', '')"
   ]
  },
  {
   "cell_type": "code",
   "execution_count": 3,
   "metadata": {},
   "outputs": [
    {
     "data": {
      "text/plain": [
       "[['26157', '2019-07-29', 't', '99.00', '99.00', '3', '30'],\n",
       " ['26157', '2019-07-30', 't', '99.00', '99.00', '3', '30'],\n",
       " ['26157', '2019-07-31', 't', '99.00', '99.00', '3', '30'],\n",
       " ['26157', '2019-08-01', 't', '99.00', '99.00', '3', '30']]"
      ]
     },
     "execution_count": 3,
     "metadata": {},
     "output_type": "execute_result"
    }
   ],
   "source": [
    "calendar[66:70]"
   ]
  },
  {
   "cell_type": "raw",
   "metadata": {},
   "source": [
    "import csv\n",
    "\n",
    "with open('calendar_cleaned.csv', 'w') as f:\n",
    "    writer = csv.writer(f)\n",
    "    writer.writerows(calendar)"
   ]
  },
  {
   "cell_type": "markdown",
   "metadata": {},
   "source": [
    "## Extract amenities column and create frequency table"
   ]
  },
  {
   "cell_type": "code",
   "execution_count": 5,
   "metadata": {},
   "outputs": [
    {
     "name": "stderr",
     "output_type": "stream",
     "text": [
      "/anaconda3/lib/python3.7/site-packages/IPython/core/interactiveshell.py:3058: DtypeWarning: Columns (61,62) have mixed types. Specify dtype option on import or set low_memory=False.\n",
      "  interactivity=interactivity, compiler=compiler, result=result)\n"
     ]
    },
    {
     "data": {
      "text/plain": [
       "0    {TV,\"Cable TV\",Internet,Wifi,\"Air conditioning...\n",
       "1    {TV,\"Cable TV\",Internet,Wifi,\"Air conditioning...\n",
       "2    {Internet,Wifi,\"Air conditioning\",\"Wheelchair ...\n",
       "3    {Internet,Wifi,Kitchen,Heating,Washer,Dryer,\"S...\n",
       "4    {TV,\"Cable TV\",Internet,Wifi,\"Air conditioning...\n",
       "Name: amenities, dtype: object"
      ]
     },
     "execution_count": 5,
     "metadata": {},
     "output_type": "execute_result"
    }
   ],
   "source": [
    "listing2 = pd.read_csv('listings-2.csv')\n",
    "amenities = listing2.amenities\n",
    "amenities.head()"
   ]
  },
  {
   "cell_type": "code",
   "execution_count": 6,
   "metadata": {},
   "outputs": [
    {
     "data": {
      "text/plain": [
       "0        TV,Cable TV,Internet,Wifi,Air conditioning,Whe...\n",
       "1        TV,Cable TV,Internet,Wifi,Air conditioning,Poo...\n",
       "2        Internet,Wifi,Air conditioning,Wheelchair acce...\n",
       "3        Internet,Wifi,Kitchen,Heating,Washer,Dryer,Smo...\n",
       "4        TV,Cable TV,Internet,Wifi,Air conditioning,Kit...\n",
       "                               ...                        \n",
       "44615    TV,Wifi,Air conditioning,Pool,Kitchen,Free par...\n",
       "44616    Wifi,Kitchen,Free parking on premises,Washer,D...\n",
       "44617    TV,Cable TV,Wifi,Air conditioning,Kitchen,Free...\n",
       "44618    Wifi,Air conditioning,Kitchen,Breakfast,Heatin...\n",
       "44619    TV,Wifi,Pool,Kitchen,Free street parking,Heati...\n",
       "Name: amenities, Length: 44620, dtype: object"
      ]
     },
     "execution_count": 6,
     "metadata": {},
     "output_type": "execute_result"
    }
   ],
   "source": [
    "amenities = amenities.str.replace('{', '')\n",
    "amenities = amenities.str.replace('}', '')\n",
    "amenities = amenities.str.replace('\"', '')\n",
    "amenities"
   ]
  },
  {
   "cell_type": "code",
   "execution_count": 17,
   "metadata": {},
   "outputs": [
    {
     "data": {
      "text/plain": [
       "(44620,)"
      ]
     },
     "execution_count": 17,
     "metadata": {},
     "output_type": "execute_result"
    }
   ],
   "source": [
    "amenities.shape"
   ]
  },
  {
   "cell_type": "code",
   "execution_count": 7,
   "metadata": {},
   "outputs": [
    {
     "data": {
      "text/html": [
       "<div>\n",
       "<style scoped>\n",
       "    .dataframe tbody tr th:only-of-type {\n",
       "        vertical-align: middle;\n",
       "    }\n",
       "\n",
       "    .dataframe tbody tr th {\n",
       "        vertical-align: top;\n",
       "    }\n",
       "\n",
       "    .dataframe thead th {\n",
       "        text-align: right;\n",
       "    }\n",
       "</style>\n",
       "<table border=\"1\" class=\"dataframe\">\n",
       "  <thead>\n",
       "    <tr style=\"text-align: right;\">\n",
       "      <th></th>\n",
       "      <th>0</th>\n",
       "      <th>1</th>\n",
       "      <th>2</th>\n",
       "      <th>3</th>\n",
       "      <th>4</th>\n",
       "      <th>5</th>\n",
       "      <th>6</th>\n",
       "      <th>7</th>\n",
       "      <th>8</th>\n",
       "      <th>9</th>\n",
       "      <th>...</th>\n",
       "      <th>121</th>\n",
       "      <th>122</th>\n",
       "      <th>123</th>\n",
       "      <th>124</th>\n",
       "      <th>125</th>\n",
       "      <th>126</th>\n",
       "      <th>127</th>\n",
       "      <th>128</th>\n",
       "      <th>129</th>\n",
       "      <th>130</th>\n",
       "    </tr>\n",
       "  </thead>\n",
       "  <tbody>\n",
       "    <tr>\n",
       "      <th>0</th>\n",
       "      <td>TV</td>\n",
       "      <td>Cable TV</td>\n",
       "      <td>Internet</td>\n",
       "      <td>Wifi</td>\n",
       "      <td>Air conditioning</td>\n",
       "      <td>Wheelchair accessible</td>\n",
       "      <td>Pool</td>\n",
       "      <td>Kitchen</td>\n",
       "      <td>Free parking on premises</td>\n",
       "      <td>Pets allowed</td>\n",
       "      <td>...</td>\n",
       "      <td>None</td>\n",
       "      <td>None</td>\n",
       "      <td>None</td>\n",
       "      <td>None</td>\n",
       "      <td>None</td>\n",
       "      <td>None</td>\n",
       "      <td>None</td>\n",
       "      <td>None</td>\n",
       "      <td>None</td>\n",
       "      <td>None</td>\n",
       "    </tr>\n",
       "    <tr>\n",
       "      <th>1</th>\n",
       "      <td>TV</td>\n",
       "      <td>Cable TV</td>\n",
       "      <td>Internet</td>\n",
       "      <td>Wifi</td>\n",
       "      <td>Air conditioning</td>\n",
       "      <td>Pool</td>\n",
       "      <td>Kitchen</td>\n",
       "      <td>Pets live on this property</td>\n",
       "      <td>Dog(s)</td>\n",
       "      <td>Free street parking</td>\n",
       "      <td>...</td>\n",
       "      <td>None</td>\n",
       "      <td>None</td>\n",
       "      <td>None</td>\n",
       "      <td>None</td>\n",
       "      <td>None</td>\n",
       "      <td>None</td>\n",
       "      <td>None</td>\n",
       "      <td>None</td>\n",
       "      <td>None</td>\n",
       "      <td>None</td>\n",
       "    </tr>\n",
       "    <tr>\n",
       "      <th>2</th>\n",
       "      <td>Internet</td>\n",
       "      <td>Wifi</td>\n",
       "      <td>Air conditioning</td>\n",
       "      <td>Wheelchair accessible</td>\n",
       "      <td>Kitchen</td>\n",
       "      <td>Free parking on premises</td>\n",
       "      <td>Gym</td>\n",
       "      <td>Breakfast</td>\n",
       "      <td>Elevator</td>\n",
       "      <td>Free street parking</td>\n",
       "      <td>...</td>\n",
       "      <td>None</td>\n",
       "      <td>None</td>\n",
       "      <td>None</td>\n",
       "      <td>None</td>\n",
       "      <td>None</td>\n",
       "      <td>None</td>\n",
       "      <td>None</td>\n",
       "      <td>None</td>\n",
       "      <td>None</td>\n",
       "      <td>None</td>\n",
       "    </tr>\n",
       "    <tr>\n",
       "      <th>3</th>\n",
       "      <td>Internet</td>\n",
       "      <td>Wifi</td>\n",
       "      <td>Kitchen</td>\n",
       "      <td>Heating</td>\n",
       "      <td>Washer</td>\n",
       "      <td>Dryer</td>\n",
       "      <td>Smoke detector</td>\n",
       "      <td>Essentials</td>\n",
       "      <td>Shampoo</td>\n",
       "      <td>Hangers</td>\n",
       "      <td>...</td>\n",
       "      <td>None</td>\n",
       "      <td>None</td>\n",
       "      <td>None</td>\n",
       "      <td>None</td>\n",
       "      <td>None</td>\n",
       "      <td>None</td>\n",
       "      <td>None</td>\n",
       "      <td>None</td>\n",
       "      <td>None</td>\n",
       "      <td>None</td>\n",
       "    </tr>\n",
       "    <tr>\n",
       "      <th>4</th>\n",
       "      <td>TV</td>\n",
       "      <td>Cable TV</td>\n",
       "      <td>Internet</td>\n",
       "      <td>Wifi</td>\n",
       "      <td>Air conditioning</td>\n",
       "      <td>Kitchen</td>\n",
       "      <td>Free parking on premises</td>\n",
       "      <td>Hot tub</td>\n",
       "      <td>Indoor fireplace</td>\n",
       "      <td>Heating</td>\n",
       "      <td>...</td>\n",
       "      <td>None</td>\n",
       "      <td>None</td>\n",
       "      <td>None</td>\n",
       "      <td>None</td>\n",
       "      <td>None</td>\n",
       "      <td>None</td>\n",
       "      <td>None</td>\n",
       "      <td>None</td>\n",
       "      <td>None</td>\n",
       "      <td>None</td>\n",
       "    </tr>\n",
       "  </tbody>\n",
       "</table>\n",
       "<p>5 rows × 131 columns</p>\n",
       "</div>"
      ],
      "text/plain": [
       "        0         1                 2                      3    \\\n",
       "0        TV  Cable TV          Internet                   Wifi   \n",
       "1        TV  Cable TV          Internet                   Wifi   \n",
       "2  Internet      Wifi  Air conditioning  Wheelchair accessible   \n",
       "3  Internet      Wifi           Kitchen                Heating   \n",
       "4        TV  Cable TV          Internet                   Wifi   \n",
       "\n",
       "                4                         5                         6    \\\n",
       "0  Air conditioning     Wheelchair accessible                      Pool   \n",
       "1  Air conditioning                      Pool                   Kitchen   \n",
       "2           Kitchen  Free parking on premises                       Gym   \n",
       "3            Washer                     Dryer            Smoke detector   \n",
       "4  Air conditioning                   Kitchen  Free parking on premises   \n",
       "\n",
       "                          7                         8                    9    \\\n",
       "0                     Kitchen  Free parking on premises         Pets allowed   \n",
       "1  Pets live on this property                    Dog(s)  Free street parking   \n",
       "2                   Breakfast                  Elevator  Free street parking   \n",
       "3                  Essentials                   Shampoo              Hangers   \n",
       "4                     Hot tub          Indoor fireplace              Heating   \n",
       "\n",
       "   ...   121   122   123   124   125   126   127   128   129   130  \n",
       "0  ...  None  None  None  None  None  None  None  None  None  None  \n",
       "1  ...  None  None  None  None  None  None  None  None  None  None  \n",
       "2  ...  None  None  None  None  None  None  None  None  None  None  \n",
       "3  ...  None  None  None  None  None  None  None  None  None  None  \n",
       "4  ...  None  None  None  None  None  None  None  None  None  None  \n",
       "\n",
       "[5 rows x 131 columns]"
      ]
     },
     "execution_count": 7,
     "metadata": {},
     "output_type": "execute_result"
    }
   ],
   "source": [
    "amenities_split = amenities.str.split(',', expand=True)\n",
    "amenities_split.head()"
   ]
  },
  {
   "cell_type": "code",
   "execution_count": 18,
   "metadata": {},
   "outputs": [
    {
     "data": {
      "text/plain": [
       "(44620, 131)"
      ]
     },
     "execution_count": 18,
     "metadata": {},
     "output_type": "execute_result"
    }
   ],
   "source": [
    "amenities_split.shape"
   ]
  },
  {
   "cell_type": "code",
   "execution_count": 8,
   "metadata": {},
   "outputs": [
    {
     "data": {
      "text/plain": [
       "Wifi                           43520.0\n",
       "Essentials                     42418.0\n",
       "Smoke detector                 41142.0\n",
       "Kitchen                        39672.0\n",
       "Heating                        39466.0\n",
       "Hangers                        37818.0\n",
       "Shampoo                        35956.0\n",
       "TV                             35819.0\n",
       "Carbon monoxide detector       34633.0\n",
       "Air conditioning               34094.0\n",
       "Hair dryer                     33976.0\n",
       "Washer                         33859.0\n",
       "Dryer                          33433.0\n",
       "Laptop friendly workspace      33286.0\n",
       "Iron                           32187.0\n",
       "Hot water                      27282.0\n",
       "Free parking on premises       26786.0\n",
       "Fire extinguisher              23897.0\n",
       "First aid kit                  20701.0\n",
       "Refrigerator                   19632.0\n",
       "Lock on bedroom door           18866.0\n",
       "Dishes and silverware          17919.0\n",
       "Microwave                      17800.0\n",
       "Bed linens                     17581.0\n",
       "Free street parking            17448.0\n",
       "Private entrance               17071.0\n",
       "Coffee maker                   16767.0\n",
       "Stove                          16730.0\n",
       "Self check-in                  16163.0\n",
       "Cooking basics                 16132.0\n",
       "Oven                           15885.0\n",
       "No stairs or steps to enter    14717.0\n",
       "Family/kid friendly            14268.0\n",
       "Long term stays allowed        14196.0\n",
       "Extra pillows and blankets     13797.0\n",
       "Cable TV                       12896.0\n",
       "Internet                       11404.0\n",
       "Patio or balcony               10979.0\n",
       "Dishwasher                     10936.0\n",
       "Pool                           10049.0\n",
       "Luggage dropoff allowed         9606.0\n",
       "Indoor fireplace                9578.0\n",
       "Elevator                        9065.0\n",
       "Garden or backyard              9007.0\n",
       "Hot tub                         7785.0\n",
       "Pets allowed                    7579.0\n",
       "Host greets you                 7443.0\n",
       "Lockbox                         7358.0\n",
       "BBQ grill                       6523.0\n",
       "Private living room             6398.0\n",
       "dtype: float64"
      ]
     },
     "execution_count": 8,
     "metadata": {},
     "output_type": "execute_result"
    }
   ],
   "source": [
    "import numpy as np\n",
    "\n",
    "amenities_value_counts = amenities_split.apply(pd.value_counts).apply(np.sum, axis=1).sort_values(ascending=False)\n",
    "amenities_value_counts.head(50)"
   ]
  },
  {
   "cell_type": "markdown",
   "metadata": {},
   "source": [
    "<b>We selected 5 features from Top 50 amenities:</b>\n",
    "\n",
    "Wifi <br/>\n",
    "Free parking on premises  <br/>\n",
    "Pool  <br/>\n",
    "Patio or balcony <br/>\n",
    "Hot tub"
   ]
  },
  {
   "cell_type": "markdown",
   "metadata": {},
   "source": [
    "## Create True/False features for every amenity"
   ]
  },
  {
   "cell_type": "code",
   "execution_count": 14,
   "metadata": {},
   "outputs": [],
   "source": [
    "amenities_list = []\n",
    "for x in range(0,len(amenities_split)):\n",
    "    amenities_list.append(amenities[x].split(','))"
   ]
  },
  {
   "cell_type": "code",
   "execution_count": 15,
   "metadata": {},
   "outputs": [
    {
     "data": {
      "text/plain": [
       "44620"
      ]
     },
     "execution_count": 15,
     "metadata": {},
     "output_type": "execute_result"
    }
   ],
   "source": [
    "len(amenities_list)"
   ]
  },
  {
   "cell_type": "code",
   "execution_count": 16,
   "metadata": {},
   "outputs": [
    {
     "data": {
      "text/plain": [
       "['TV',\n",
       " 'Cable TV',\n",
       " 'Internet',\n",
       " 'Wifi',\n",
       " 'Air conditioning',\n",
       " 'Wheelchair accessible',\n",
       " 'Pool',\n",
       " 'Kitchen',\n",
       " 'Free parking on premises',\n",
       " 'Pets allowed',\n",
       " 'Gym',\n",
       " 'Elevator',\n",
       " 'Hot tub',\n",
       " 'Indoor fireplace',\n",
       " 'Buzzer/wireless intercom',\n",
       " 'Heating',\n",
       " 'Family/kid friendly',\n",
       " 'Suitable for events',\n",
       " 'Washer',\n",
       " 'Dryer',\n",
       " 'Smoke detector',\n",
       " 'Carbon monoxide detector',\n",
       " 'First aid kit',\n",
       " 'Safety card',\n",
       " 'Fire extinguisher',\n",
       " 'Essentials',\n",
       " 'Shampoo',\n",
       " '24-hour check-in',\n",
       " 'Hangers',\n",
       " 'Hair dryer',\n",
       " 'Iron',\n",
       " 'Laptop friendly workspace']"
      ]
     },
     "execution_count": 16,
     "metadata": {},
     "output_type": "execute_result"
    }
   ],
   "source": [
    "amenities_list[0]"
   ]
  },
  {
   "cell_type": "code",
   "execution_count": 20,
   "metadata": {},
   "outputs": [],
   "source": [
    "def amenities_tf(amenities_name):\n",
    "    amenity_list = []\n",
    "    for row in amenities_list:\n",
    "        if amenities_name in row:\n",
    "            amenity_list.append(True)\n",
    "        else:\n",
    "            amenity_list.append(False)\n",
    "    return amenity_list"
   ]
  },
  {
   "cell_type": "code",
   "execution_count": 23,
   "metadata": {},
   "outputs": [],
   "source": [
    "wifi_list = amenities_tf('Wifi')\n",
    "free_parking_list = amenities_tf('Free parking on premises')\n",
    "pool_list = amenities_tf('Pool')\n",
    "balcony_list = amenities_tf('Patio or balcony')\n",
    "hottub_list = amenities_tf('Hot tub')"
   ]
  },
  {
   "cell_type": "code",
   "execution_count": 24,
   "metadata": {},
   "outputs": [
    {
     "data": {
      "text/html": [
       "<div>\n",
       "<style scoped>\n",
       "    .dataframe tbody tr th:only-of-type {\n",
       "        vertical-align: middle;\n",
       "    }\n",
       "\n",
       "    .dataframe tbody tr th {\n",
       "        vertical-align: top;\n",
       "    }\n",
       "\n",
       "    .dataframe thead th {\n",
       "        text-align: right;\n",
       "    }\n",
       "</style>\n",
       "<table border=\"1\" class=\"dataframe\">\n",
       "  <thead>\n",
       "    <tr style=\"text-align: right;\">\n",
       "      <th></th>\n",
       "      <th>id</th>\n",
       "      <th>Wifi</th>\n",
       "      <th>Free Parking</th>\n",
       "      <th>Pool</th>\n",
       "      <th>Balcony</th>\n",
       "      <th>Hot Tub</th>\n",
       "    </tr>\n",
       "  </thead>\n",
       "  <tbody>\n",
       "    <tr>\n",
       "      <th>0</th>\n",
       "      <td>109</td>\n",
       "      <td>True</td>\n",
       "      <td>True</td>\n",
       "      <td>True</td>\n",
       "      <td>False</td>\n",
       "      <td>True</td>\n",
       "    </tr>\n",
       "    <tr>\n",
       "      <th>1</th>\n",
       "      <td>344</td>\n",
       "      <td>True</td>\n",
       "      <td>False</td>\n",
       "      <td>True</td>\n",
       "      <td>True</td>\n",
       "      <td>False</td>\n",
       "    </tr>\n",
       "    <tr>\n",
       "      <th>2</th>\n",
       "      <td>2708</td>\n",
       "      <td>True</td>\n",
       "      <td>True</td>\n",
       "      <td>False</td>\n",
       "      <td>True</td>\n",
       "      <td>True</td>\n",
       "    </tr>\n",
       "    <tr>\n",
       "      <th>3</th>\n",
       "      <td>2732</td>\n",
       "      <td>True</td>\n",
       "      <td>False</td>\n",
       "      <td>False</td>\n",
       "      <td>False</td>\n",
       "      <td>False</td>\n",
       "    </tr>\n",
       "    <tr>\n",
       "      <th>4</th>\n",
       "      <td>2864</td>\n",
       "      <td>True</td>\n",
       "      <td>True</td>\n",
       "      <td>False</td>\n",
       "      <td>False</td>\n",
       "      <td>True</td>\n",
       "    </tr>\n",
       "  </tbody>\n",
       "</table>\n",
       "</div>"
      ],
      "text/plain": [
       "     id  Wifi  Free Parking   Pool  Balcony  Hot Tub\n",
       "0   109  True          True   True    False     True\n",
       "1   344  True         False   True     True    False\n",
       "2  2708  True          True  False     True     True\n",
       "3  2732  True         False  False    False    False\n",
       "4  2864  True          True  False    False     True"
      ]
     },
     "execution_count": 24,
     "metadata": {},
     "output_type": "execute_result"
    }
   ],
   "source": [
    "listing_df = pd.DataFrame(listing2.id)\n",
    "listing_df['Wifi'] = wifi_list\n",
    "listing_df['Free Parking'] = free_parking_list\n",
    "listing_df['Pool'] = pool_list\n",
    "listing_df['Balcony'] = balcony_list\n",
    "listing_df['Hot Tub'] = hottub_list\n",
    "listing_df.head()"
   ]
  },
  {
   "cell_type": "code",
   "execution_count": 38,
   "metadata": {},
   "outputs": [
    {
     "data": {
      "text/plain": [
       "(44620, 6)"
      ]
     },
     "execution_count": 38,
     "metadata": {},
     "output_type": "execute_result"
    }
   ],
   "source": [
    "listing_df.shape"
   ]
  },
  {
   "cell_type": "raw",
   "metadata": {},
   "source": [
    "listing_df.to_csv('amenities.csv', index=False)"
   ]
  },
  {
   "cell_type": "markdown",
   "metadata": {},
   "source": [
    "## Extract features for listing2 dataset"
   ]
  },
  {
   "cell_type": "code",
   "execution_count": 25,
   "metadata": {},
   "outputs": [
    {
     "data": {
      "text/html": [
       "<div>\n",
       "<style scoped>\n",
       "    .dataframe tbody tr th:only-of-type {\n",
       "        vertical-align: middle;\n",
       "    }\n",
       "\n",
       "    .dataframe tbody tr th {\n",
       "        vertical-align: top;\n",
       "    }\n",
       "\n",
       "    .dataframe thead th {\n",
       "        text-align: right;\n",
       "    }\n",
       "</style>\n",
       "<table border=\"1\" class=\"dataframe\">\n",
       "  <thead>\n",
       "    <tr style=\"text-align: right;\">\n",
       "      <th></th>\n",
       "      <th>id</th>\n",
       "      <th>listing_url</th>\n",
       "      <th>scrape_id</th>\n",
       "      <th>last_scraped</th>\n",
       "      <th>name</th>\n",
       "      <th>summary</th>\n",
       "      <th>space</th>\n",
       "      <th>description</th>\n",
       "      <th>experiences_offered</th>\n",
       "      <th>neighborhood_overview</th>\n",
       "      <th>...</th>\n",
       "      <th>instant_bookable</th>\n",
       "      <th>is_business_travel_ready</th>\n",
       "      <th>cancellation_policy</th>\n",
       "      <th>require_guest_profile_picture</th>\n",
       "      <th>require_guest_phone_verification</th>\n",
       "      <th>calculated_host_listings_count</th>\n",
       "      <th>calculated_host_listings_count_entire_homes</th>\n",
       "      <th>calculated_host_listings_count_private_rooms</th>\n",
       "      <th>calculated_host_listings_count_shared_rooms</th>\n",
       "      <th>reviews_per_month</th>\n",
       "    </tr>\n",
       "  </thead>\n",
       "  <tbody>\n",
       "    <tr>\n",
       "      <th>0</th>\n",
       "      <td>109</td>\n",
       "      <td>https://www.airbnb.com/rooms/109</td>\n",
       "      <td>20190708161040</td>\n",
       "      <td>2019-07-09</td>\n",
       "      <td>Amazing bright elegant condo park front *UPGRA...</td>\n",
       "      <td>*** Unit upgraded with new bamboo flooring, br...</td>\n",
       "      <td>*** Unit upgraded with new bamboo flooring, br...</td>\n",
       "      <td>*** Unit upgraded with new bamboo flooring, br...</td>\n",
       "      <td>none</td>\n",
       "      <td>NaN</td>\n",
       "      <td>...</td>\n",
       "      <td>f</td>\n",
       "      <td>f</td>\n",
       "      <td>strict_14_with_grace_period</td>\n",
       "      <td>t</td>\n",
       "      <td>f</td>\n",
       "      <td>1</td>\n",
       "      <td>1</td>\n",
       "      <td>0</td>\n",
       "      <td>0</td>\n",
       "      <td>0.02</td>\n",
       "    </tr>\n",
       "    <tr>\n",
       "      <th>1</th>\n",
       "      <td>344</td>\n",
       "      <td>https://www.airbnb.com/rooms/344</td>\n",
       "      <td>20190708161040</td>\n",
       "      <td>2019-07-09</td>\n",
       "      <td>Family perfect;Pool;Near Studios!</td>\n",
       "      <td>This home is perfect for families; aspiring ch...</td>\n",
       "      <td>Cheerful &amp; comfortable; near studios, amusemen...</td>\n",
       "      <td>This home is perfect for families; aspiring ch...</td>\n",
       "      <td>none</td>\n",
       "      <td>Quiet-yet-close to all the fun in LA! Hollywoo...</td>\n",
       "      <td>...</td>\n",
       "      <td>t</td>\n",
       "      <td>f</td>\n",
       "      <td>flexible</td>\n",
       "      <td>f</td>\n",
       "      <td>f</td>\n",
       "      <td>1</td>\n",
       "      <td>1</td>\n",
       "      <td>0</td>\n",
       "      <td>0</td>\n",
       "      <td>0.16</td>\n",
       "    </tr>\n",
       "    <tr>\n",
       "      <th>2</th>\n",
       "      <td>2708</td>\n",
       "      <td>https://www.airbnb.com/rooms/2708</td>\n",
       "      <td>20190708161040</td>\n",
       "      <td>2019-07-09</td>\n",
       "      <td>Fireplace Mirrored Mini Suit (Website hidden b...</td>\n",
       "      <td>Our best memory foam pillows you'll ever sleep...</td>\n",
       "      <td>Flickering fireplace.  Blendtec® Designer 625 ...</td>\n",
       "      <td>Our best memory foam pillows you'll ever sleep...</td>\n",
       "      <td>none</td>\n",
       "      <td>We are minutes away from the Mentor Language I...</td>\n",
       "      <td>...</td>\n",
       "      <td>t</td>\n",
       "      <td>f</td>\n",
       "      <td>strict_14_with_grace_period</td>\n",
       "      <td>f</td>\n",
       "      <td>f</td>\n",
       "      <td>2</td>\n",
       "      <td>0</td>\n",
       "      <td>2</td>\n",
       "      <td>0</td>\n",
       "      <td>0.32</td>\n",
       "    </tr>\n",
       "    <tr>\n",
       "      <th>3</th>\n",
       "      <td>2732</td>\n",
       "      <td>https://www.airbnb.com/rooms/2732</td>\n",
       "      <td>20190708161040</td>\n",
       "      <td>2019-07-09</td>\n",
       "      <td>Zen Life at the Beach</td>\n",
       "      <td>NaN</td>\n",
       "      <td>This is a three story townhouse with the follo...</td>\n",
       "      <td>This is a three story townhouse with the follo...</td>\n",
       "      <td>none</td>\n",
       "      <td>NaN</td>\n",
       "      <td>...</td>\n",
       "      <td>f</td>\n",
       "      <td>f</td>\n",
       "      <td>strict_14_with_grace_period</td>\n",
       "      <td>f</td>\n",
       "      <td>f</td>\n",
       "      <td>2</td>\n",
       "      <td>1</td>\n",
       "      <td>1</td>\n",
       "      <td>0</td>\n",
       "      <td>0.18</td>\n",
       "    </tr>\n",
       "    <tr>\n",
       "      <th>4</th>\n",
       "      <td>2864</td>\n",
       "      <td>https://www.airbnb.com/rooms/2864</td>\n",
       "      <td>20190708161040</td>\n",
       "      <td>2019-07-08</td>\n",
       "      <td>*Upscale Professional Home with Beautiful Studio*</td>\n",
       "      <td>Centrally located.... Furnished with 42 inch S...</td>\n",
       "      <td>The space is furnished with Thomasville furnit...</td>\n",
       "      <td>Centrally located.... Furnished with 42 inch S...</td>\n",
       "      <td>none</td>\n",
       "      <td>What makes the neighborhood unique is that the...</td>\n",
       "      <td>...</td>\n",
       "      <td>f</td>\n",
       "      <td>f</td>\n",
       "      <td>strict_14_with_grace_period</td>\n",
       "      <td>f</td>\n",
       "      <td>f</td>\n",
       "      <td>1</td>\n",
       "      <td>1</td>\n",
       "      <td>0</td>\n",
       "      <td>0</td>\n",
       "      <td>NaN</td>\n",
       "    </tr>\n",
       "  </tbody>\n",
       "</table>\n",
       "<p>5 rows × 106 columns</p>\n",
       "</div>"
      ],
      "text/plain": [
       "     id                        listing_url       scrape_id last_scraped  \\\n",
       "0   109   https://www.airbnb.com/rooms/109  20190708161040   2019-07-09   \n",
       "1   344   https://www.airbnb.com/rooms/344  20190708161040   2019-07-09   \n",
       "2  2708  https://www.airbnb.com/rooms/2708  20190708161040   2019-07-09   \n",
       "3  2732  https://www.airbnb.com/rooms/2732  20190708161040   2019-07-09   \n",
       "4  2864  https://www.airbnb.com/rooms/2864  20190708161040   2019-07-08   \n",
       "\n",
       "                                                name  \\\n",
       "0  Amazing bright elegant condo park front *UPGRA...   \n",
       "1                  Family perfect;Pool;Near Studios!   \n",
       "2  Fireplace Mirrored Mini Suit (Website hidden b...   \n",
       "3                              Zen Life at the Beach   \n",
       "4  *Upscale Professional Home with Beautiful Studio*   \n",
       "\n",
       "                                             summary  \\\n",
       "0  *** Unit upgraded with new bamboo flooring, br...   \n",
       "1  This home is perfect for families; aspiring ch...   \n",
       "2  Our best memory foam pillows you'll ever sleep...   \n",
       "3                                                NaN   \n",
       "4  Centrally located.... Furnished with 42 inch S...   \n",
       "\n",
       "                                               space  \\\n",
       "0  *** Unit upgraded with new bamboo flooring, br...   \n",
       "1  Cheerful & comfortable; near studios, amusemen...   \n",
       "2  Flickering fireplace.  Blendtec® Designer 625 ...   \n",
       "3  This is a three story townhouse with the follo...   \n",
       "4  The space is furnished with Thomasville furnit...   \n",
       "\n",
       "                                         description experiences_offered  \\\n",
       "0  *** Unit upgraded with new bamboo flooring, br...                none   \n",
       "1  This home is perfect for families; aspiring ch...                none   \n",
       "2  Our best memory foam pillows you'll ever sleep...                none   \n",
       "3  This is a three story townhouse with the follo...                none   \n",
       "4  Centrally located.... Furnished with 42 inch S...                none   \n",
       "\n",
       "                               neighborhood_overview  ... instant_bookable  \\\n",
       "0                                                NaN  ...                f   \n",
       "1  Quiet-yet-close to all the fun in LA! Hollywoo...  ...                t   \n",
       "2  We are minutes away from the Mentor Language I...  ...                t   \n",
       "3                                                NaN  ...                f   \n",
       "4  What makes the neighborhood unique is that the...  ...                f   \n",
       "\n",
       "  is_business_travel_ready          cancellation_policy  \\\n",
       "0                        f  strict_14_with_grace_period   \n",
       "1                        f                     flexible   \n",
       "2                        f  strict_14_with_grace_period   \n",
       "3                        f  strict_14_with_grace_period   \n",
       "4                        f  strict_14_with_grace_period   \n",
       "\n",
       "  require_guest_profile_picture require_guest_phone_verification  \\\n",
       "0                             t                                f   \n",
       "1                             f                                f   \n",
       "2                             f                                f   \n",
       "3                             f                                f   \n",
       "4                             f                                f   \n",
       "\n",
       "   calculated_host_listings_count  \\\n",
       "0                               1   \n",
       "1                               1   \n",
       "2                               2   \n",
       "3                               2   \n",
       "4                               1   \n",
       "\n",
       "   calculated_host_listings_count_entire_homes  \\\n",
       "0                                            1   \n",
       "1                                            1   \n",
       "2                                            0   \n",
       "3                                            1   \n",
       "4                                            1   \n",
       "\n",
       "  calculated_host_listings_count_private_rooms  \\\n",
       "0                                            0   \n",
       "1                                            0   \n",
       "2                                            2   \n",
       "3                                            1   \n",
       "4                                            0   \n",
       "\n",
       "   calculated_host_listings_count_shared_rooms  reviews_per_month  \n",
       "0                                            0               0.02  \n",
       "1                                            0               0.16  \n",
       "2                                            0               0.32  \n",
       "3                                            0               0.18  \n",
       "4                                            0                NaN  \n",
       "\n",
       "[5 rows x 106 columns]"
      ]
     },
     "execution_count": 25,
     "metadata": {},
     "output_type": "execute_result"
    }
   ],
   "source": [
    "listing2.head()"
   ]
  },
  {
   "cell_type": "code",
   "execution_count": 26,
   "metadata": {},
   "outputs": [
    {
     "data": {
      "text/plain": [
       "Index(['id', 'listing_url', 'scrape_id', 'last_scraped', 'name', 'summary',\n",
       "       'space', 'description', 'experiences_offered', 'neighborhood_overview',\n",
       "       ...\n",
       "       'instant_bookable', 'is_business_travel_ready', 'cancellation_policy',\n",
       "       'require_guest_profile_picture', 'require_guest_phone_verification',\n",
       "       'calculated_host_listings_count',\n",
       "       'calculated_host_listings_count_entire_homes',\n",
       "       'calculated_host_listings_count_private_rooms',\n",
       "       'calculated_host_listings_count_shared_rooms', 'reviews_per_month'],\n",
       "      dtype='object', length=106)"
      ]
     },
     "execution_count": 26,
     "metadata": {},
     "output_type": "execute_result"
    }
   ],
   "source": [
    "listing2.columns"
   ]
  },
  {
   "cell_type": "markdown",
   "metadata": {},
   "source": [
    "<b>columns selected:</b> <br/>\n",
    "id <br/>\n",
    "zipcode <br/>\n",
    "latitude <br/>\n",
    "longitude <br/>\n",
    "property_type <br/>\n",
    "room_type <br/>\n",
    "bed_type <br/>"
   ]
  },
  {
   "cell_type": "code",
   "execution_count": 27,
   "metadata": {},
   "outputs": [
    {
     "data": {
      "text/html": [
       "<div>\n",
       "<style scoped>\n",
       "    .dataframe tbody tr th:only-of-type {\n",
       "        vertical-align: middle;\n",
       "    }\n",
       "\n",
       "    .dataframe tbody tr th {\n",
       "        vertical-align: top;\n",
       "    }\n",
       "\n",
       "    .dataframe thead th {\n",
       "        text-align: right;\n",
       "    }\n",
       "</style>\n",
       "<table border=\"1\" class=\"dataframe\">\n",
       "  <thead>\n",
       "    <tr style=\"text-align: right;\">\n",
       "      <th></th>\n",
       "      <th>id</th>\n",
       "      <th>zipcode</th>\n",
       "      <th>latitude</th>\n",
       "      <th>longitude</th>\n",
       "      <th>property_type</th>\n",
       "      <th>room_type</th>\n",
       "      <th>bed_type</th>\n",
       "    </tr>\n",
       "  </thead>\n",
       "  <tbody>\n",
       "    <tr>\n",
       "      <th>0</th>\n",
       "      <td>109</td>\n",
       "      <td>90230</td>\n",
       "      <td>33.98209</td>\n",
       "      <td>-118.38494</td>\n",
       "      <td>Condominium</td>\n",
       "      <td>Entire home/apt</td>\n",
       "      <td>Real Bed</td>\n",
       "    </tr>\n",
       "    <tr>\n",
       "      <th>1</th>\n",
       "      <td>344</td>\n",
       "      <td>91505</td>\n",
       "      <td>34.16562</td>\n",
       "      <td>-118.33458</td>\n",
       "      <td>House</td>\n",
       "      <td>Entire home/apt</td>\n",
       "      <td>Real Bed</td>\n",
       "    </tr>\n",
       "    <tr>\n",
       "      <th>2</th>\n",
       "      <td>2708</td>\n",
       "      <td>90046</td>\n",
       "      <td>34.09768</td>\n",
       "      <td>-118.34602</td>\n",
       "      <td>Apartment</td>\n",
       "      <td>Private room</td>\n",
       "      <td>Real Bed</td>\n",
       "    </tr>\n",
       "    <tr>\n",
       "      <th>3</th>\n",
       "      <td>2732</td>\n",
       "      <td>90405</td>\n",
       "      <td>34.00475</td>\n",
       "      <td>-118.48127</td>\n",
       "      <td>Apartment</td>\n",
       "      <td>Private room</td>\n",
       "      <td>Pull-out Sofa</td>\n",
       "    </tr>\n",
       "    <tr>\n",
       "      <th>4</th>\n",
       "      <td>2864</td>\n",
       "      <td>90706</td>\n",
       "      <td>33.87619</td>\n",
       "      <td>-118.11397</td>\n",
       "      <td>Apartment</td>\n",
       "      <td>Entire home/apt</td>\n",
       "      <td>Real Bed</td>\n",
       "    </tr>\n",
       "  </tbody>\n",
       "</table>\n",
       "</div>"
      ],
      "text/plain": [
       "     id zipcode  latitude  longitude property_type        room_type  \\\n",
       "0   109   90230  33.98209 -118.38494   Condominium  Entire home/apt   \n",
       "1   344   91505  34.16562 -118.33458         House  Entire home/apt   \n",
       "2  2708   90046  34.09768 -118.34602     Apartment     Private room   \n",
       "3  2732   90405  34.00475 -118.48127     Apartment     Private room   \n",
       "4  2864   90706  33.87619 -118.11397     Apartment  Entire home/apt   \n",
       "\n",
       "        bed_type  \n",
       "0       Real Bed  \n",
       "1       Real Bed  \n",
       "2       Real Bed  \n",
       "3  Pull-out Sofa  \n",
       "4       Real Bed  "
      ]
     },
     "execution_count": 27,
     "metadata": {},
     "output_type": "execute_result"
    }
   ],
   "source": [
    "listing2_features = listing2[['id' , 'zipcode', 'latitude', 'longitude', 'property_type', 'room_type', 'bed_type']]\n",
    "listing2_features.head()"
   ]
  },
  {
   "cell_type": "code",
   "execution_count": 39,
   "metadata": {},
   "outputs": [
    {
     "data": {
      "text/plain": [
       "(44620, 7)"
      ]
     },
     "execution_count": 39,
     "metadata": {},
     "output_type": "execute_result"
    }
   ],
   "source": [
    "listing2_features.shape"
   ]
  },
  {
   "cell_type": "raw",
   "metadata": {},
   "source": [
    "listing2_features.to_csv('listing2_features.csv', index=False)"
   ]
  },
  {
   "cell_type": "markdown",
   "metadata": {},
   "source": [
    "## Extract features for listings dataset"
   ]
  },
  {
   "cell_type": "code",
   "execution_count": 29,
   "metadata": {},
   "outputs": [
    {
     "data": {
      "text/html": [
       "<div>\n",
       "<style scoped>\n",
       "    .dataframe tbody tr th:only-of-type {\n",
       "        vertical-align: middle;\n",
       "    }\n",
       "\n",
       "    .dataframe tbody tr th {\n",
       "        vertical-align: top;\n",
       "    }\n",
       "\n",
       "    .dataframe thead th {\n",
       "        text-align: right;\n",
       "    }\n",
       "</style>\n",
       "<table border=\"1\" class=\"dataframe\">\n",
       "  <thead>\n",
       "    <tr style=\"text-align: right;\">\n",
       "      <th></th>\n",
       "      <th>id</th>\n",
       "      <th>name</th>\n",
       "      <th>host_id</th>\n",
       "      <th>host_name</th>\n",
       "      <th>neighbourhood_group</th>\n",
       "      <th>neighbourhood</th>\n",
       "      <th>latitude</th>\n",
       "      <th>longitude</th>\n",
       "      <th>room_type</th>\n",
       "      <th>price</th>\n",
       "      <th>minimum_nights</th>\n",
       "      <th>number_of_reviews</th>\n",
       "      <th>last_review</th>\n",
       "      <th>reviews_per_month</th>\n",
       "      <th>calculated_host_listings_count</th>\n",
       "      <th>availability_365</th>\n",
       "    </tr>\n",
       "  </thead>\n",
       "  <tbody>\n",
       "    <tr>\n",
       "      <th>0</th>\n",
       "      <td>109</td>\n",
       "      <td>Amazing bright elegant condo park front *UPGRA...</td>\n",
       "      <td>521</td>\n",
       "      <td>Paolo</td>\n",
       "      <td>NaN</td>\n",
       "      <td>Culver City</td>\n",
       "      <td>33.98209</td>\n",
       "      <td>-118.38494</td>\n",
       "      <td>Entire home/apt</td>\n",
       "      <td>122</td>\n",
       "      <td>30</td>\n",
       "      <td>2</td>\n",
       "      <td>2016-05-15</td>\n",
       "      <td>0.02</td>\n",
       "      <td>1</td>\n",
       "      <td>98</td>\n",
       "    </tr>\n",
       "    <tr>\n",
       "      <th>1</th>\n",
       "      <td>344</td>\n",
       "      <td>Family perfect;Pool;Near Studios!</td>\n",
       "      <td>767</td>\n",
       "      <td>Melissa</td>\n",
       "      <td>NaN</td>\n",
       "      <td>Burbank</td>\n",
       "      <td>34.16562</td>\n",
       "      <td>-118.33458</td>\n",
       "      <td>Entire home/apt</td>\n",
       "      <td>168</td>\n",
       "      <td>2</td>\n",
       "      <td>6</td>\n",
       "      <td>2018-10-21</td>\n",
       "      <td>0.16</td>\n",
       "      <td>1</td>\n",
       "      <td>0</td>\n",
       "    </tr>\n",
       "    <tr>\n",
       "      <th>2</th>\n",
       "      <td>2708</td>\n",
       "      <td>Fireplace Mirrored Mini Suit (Website hidden b...</td>\n",
       "      <td>3008</td>\n",
       "      <td>Chas.</td>\n",
       "      <td>NaN</td>\n",
       "      <td>Hollywood</td>\n",
       "      <td>34.09768</td>\n",
       "      <td>-118.34602</td>\n",
       "      <td>Private room</td>\n",
       "      <td>79</td>\n",
       "      <td>28</td>\n",
       "      <td>20</td>\n",
       "      <td>2019-05-20</td>\n",
       "      <td>0.32</td>\n",
       "      <td>2</td>\n",
       "      <td>238</td>\n",
       "    </tr>\n",
       "    <tr>\n",
       "      <th>3</th>\n",
       "      <td>2732</td>\n",
       "      <td>Zen Life at the Beach</td>\n",
       "      <td>3041</td>\n",
       "      <td>Yoga Priestess</td>\n",
       "      <td>NaN</td>\n",
       "      <td>Santa Monica</td>\n",
       "      <td>34.00475</td>\n",
       "      <td>-118.48127</td>\n",
       "      <td>Private room</td>\n",
       "      <td>140</td>\n",
       "      <td>1</td>\n",
       "      <td>18</td>\n",
       "      <td>2018-11-15</td>\n",
       "      <td>0.18</td>\n",
       "      <td>2</td>\n",
       "      <td>309</td>\n",
       "    </tr>\n",
       "    <tr>\n",
       "      <th>4</th>\n",
       "      <td>2864</td>\n",
       "      <td>*Upscale Professional Home with Beautiful Studio*</td>\n",
       "      <td>3207</td>\n",
       "      <td>Bernadine</td>\n",
       "      <td>NaN</td>\n",
       "      <td>Bellflower</td>\n",
       "      <td>33.87619</td>\n",
       "      <td>-118.11397</td>\n",
       "      <td>Entire home/apt</td>\n",
       "      <td>80</td>\n",
       "      <td>2</td>\n",
       "      <td>0</td>\n",
       "      <td>NaN</td>\n",
       "      <td>NaN</td>\n",
       "      <td>1</td>\n",
       "      <td>0</td>\n",
       "    </tr>\n",
       "  </tbody>\n",
       "</table>\n",
       "</div>"
      ],
      "text/plain": [
       "     id                                               name  host_id  \\\n",
       "0   109  Amazing bright elegant condo park front *UPGRA...      521   \n",
       "1   344                  Family perfect;Pool;Near Studios!      767   \n",
       "2  2708  Fireplace Mirrored Mini Suit (Website hidden b...     3008   \n",
       "3  2732                              Zen Life at the Beach     3041   \n",
       "4  2864  *Upscale Professional Home with Beautiful Studio*     3207   \n",
       "\n",
       "        host_name  neighbourhood_group neighbourhood  latitude  longitude  \\\n",
       "0           Paolo                  NaN   Culver City  33.98209 -118.38494   \n",
       "1         Melissa                  NaN       Burbank  34.16562 -118.33458   \n",
       "2           Chas.                  NaN     Hollywood  34.09768 -118.34602   \n",
       "3  Yoga Priestess                  NaN  Santa Monica  34.00475 -118.48127   \n",
       "4       Bernadine                  NaN    Bellflower  33.87619 -118.11397   \n",
       "\n",
       "         room_type  price  minimum_nights  number_of_reviews last_review  \\\n",
       "0  Entire home/apt    122              30                  2  2016-05-15   \n",
       "1  Entire home/apt    168               2                  6  2018-10-21   \n",
       "2     Private room     79              28                 20  2019-05-20   \n",
       "3     Private room    140               1                 18  2018-11-15   \n",
       "4  Entire home/apt     80               2                  0         NaN   \n",
       "\n",
       "   reviews_per_month  calculated_host_listings_count  availability_365  \n",
       "0               0.02                               1                98  \n",
       "1               0.16                               1                 0  \n",
       "2               0.32                               2               238  \n",
       "3               0.18                               2               309  \n",
       "4                NaN                               1                 0  "
      ]
     },
     "execution_count": 29,
     "metadata": {},
     "output_type": "execute_result"
    }
   ],
   "source": [
    "listings = pd.read_csv('listings.csv')\n",
    "listings.head()"
   ]
  },
  {
   "cell_type": "code",
   "execution_count": 30,
   "metadata": {},
   "outputs": [
    {
     "data": {
      "text/plain": [
       "Index(['id', 'name', 'host_id', 'host_name', 'neighbourhood_group',\n",
       "       'neighbourhood', 'latitude', 'longitude', 'room_type', 'price',\n",
       "       'minimum_nights', 'number_of_reviews', 'last_review',\n",
       "       'reviews_per_month', 'calculated_host_listings_count',\n",
       "       'availability_365'],\n",
       "      dtype='object')"
      ]
     },
     "execution_count": 30,
     "metadata": {},
     "output_type": "execute_result"
    }
   ],
   "source": [
    "listings.columns"
   ]
  },
  {
   "cell_type": "markdown",
   "metadata": {},
   "source": [
    "<b>columns selected:</b> <br/>\n",
    "id <br/>\n",
    "name <br/>\n",
    "price <br/>\n",
    "minimum_nights <br/>\n",
    "number_of_reviews"
   ]
  },
  {
   "cell_type": "code",
   "execution_count": 31,
   "metadata": {},
   "outputs": [
    {
     "data": {
      "text/html": [
       "<div>\n",
       "<style scoped>\n",
       "    .dataframe tbody tr th:only-of-type {\n",
       "        vertical-align: middle;\n",
       "    }\n",
       "\n",
       "    .dataframe tbody tr th {\n",
       "        vertical-align: top;\n",
       "    }\n",
       "\n",
       "    .dataframe thead th {\n",
       "        text-align: right;\n",
       "    }\n",
       "</style>\n",
       "<table border=\"1\" class=\"dataframe\">\n",
       "  <thead>\n",
       "    <tr style=\"text-align: right;\">\n",
       "      <th></th>\n",
       "      <th>id</th>\n",
       "      <th>name</th>\n",
       "      <th>price</th>\n",
       "      <th>minimum_nights</th>\n",
       "      <th>number_of_reviews</th>\n",
       "    </tr>\n",
       "  </thead>\n",
       "  <tbody>\n",
       "    <tr>\n",
       "      <th>0</th>\n",
       "      <td>109</td>\n",
       "      <td>Amazing bright elegant condo park front *UPGRA...</td>\n",
       "      <td>122</td>\n",
       "      <td>30</td>\n",
       "      <td>2</td>\n",
       "    </tr>\n",
       "    <tr>\n",
       "      <th>1</th>\n",
       "      <td>344</td>\n",
       "      <td>Family perfect;Pool;Near Studios!</td>\n",
       "      <td>168</td>\n",
       "      <td>2</td>\n",
       "      <td>6</td>\n",
       "    </tr>\n",
       "    <tr>\n",
       "      <th>2</th>\n",
       "      <td>2708</td>\n",
       "      <td>Fireplace Mirrored Mini Suit (Website hidden b...</td>\n",
       "      <td>79</td>\n",
       "      <td>28</td>\n",
       "      <td>20</td>\n",
       "    </tr>\n",
       "    <tr>\n",
       "      <th>3</th>\n",
       "      <td>2732</td>\n",
       "      <td>Zen Life at the Beach</td>\n",
       "      <td>140</td>\n",
       "      <td>1</td>\n",
       "      <td>18</td>\n",
       "    </tr>\n",
       "    <tr>\n",
       "      <th>4</th>\n",
       "      <td>2864</td>\n",
       "      <td>*Upscale Professional Home with Beautiful Studio*</td>\n",
       "      <td>80</td>\n",
       "      <td>2</td>\n",
       "      <td>0</td>\n",
       "    </tr>\n",
       "  </tbody>\n",
       "</table>\n",
       "</div>"
      ],
      "text/plain": [
       "     id                                               name  price  \\\n",
       "0   109  Amazing bright elegant condo park front *UPGRA...    122   \n",
       "1   344                  Family perfect;Pool;Near Studios!    168   \n",
       "2  2708  Fireplace Mirrored Mini Suit (Website hidden b...     79   \n",
       "3  2732                              Zen Life at the Beach    140   \n",
       "4  2864  *Upscale Professional Home with Beautiful Studio*     80   \n",
       "\n",
       "   minimum_nights  number_of_reviews  \n",
       "0              30                  2  \n",
       "1               2                  6  \n",
       "2              28                 20  \n",
       "3               1                 18  \n",
       "4               2                  0  "
      ]
     },
     "execution_count": 31,
     "metadata": {},
     "output_type": "execute_result"
    }
   ],
   "source": [
    "listings_features = listings[['id', 'name', 'price', 'minimum_nights', 'number_of_reviews']]\n",
    "listings_features.head()"
   ]
  },
  {
   "cell_type": "code",
   "execution_count": 40,
   "metadata": {},
   "outputs": [
    {
     "data": {
      "text/plain": [
       "(44620, 5)"
      ]
     },
     "execution_count": 40,
     "metadata": {},
     "output_type": "execute_result"
    }
   ],
   "source": [
    "listings_features.shape"
   ]
  },
  {
   "cell_type": "code",
   "execution_count": 34,
   "metadata": {},
   "outputs": [],
   "source": [
    "listings_features.to_csv('listings_features.csv', index=False)"
   ]
  },
  {
   "cell_type": "markdown",
   "metadata": {},
   "source": [
    "## Reviews dataset"
   ]
  },
  {
   "cell_type": "code",
   "execution_count": 33,
   "metadata": {},
   "outputs": [
    {
     "data": {
      "text/html": [
       "<div>\n",
       "<style scoped>\n",
       "    .dataframe tbody tr th:only-of-type {\n",
       "        vertical-align: middle;\n",
       "    }\n",
       "\n",
       "    .dataframe tbody tr th {\n",
       "        vertical-align: top;\n",
       "    }\n",
       "\n",
       "    .dataframe thead th {\n",
       "        text-align: right;\n",
       "    }\n",
       "</style>\n",
       "<table border=\"1\" class=\"dataframe\">\n",
       "  <thead>\n",
       "    <tr style=\"text-align: right;\">\n",
       "      <th></th>\n",
       "      <th>listing_id</th>\n",
       "      <th>date</th>\n",
       "    </tr>\n",
       "  </thead>\n",
       "  <tbody>\n",
       "    <tr>\n",
       "      <th>0</th>\n",
       "      <td>109</td>\n",
       "      <td>2011-08-15</td>\n",
       "    </tr>\n",
       "    <tr>\n",
       "      <th>1</th>\n",
       "      <td>109</td>\n",
       "      <td>2016-05-15</td>\n",
       "    </tr>\n",
       "    <tr>\n",
       "      <th>2</th>\n",
       "      <td>344</td>\n",
       "      <td>2016-06-14</td>\n",
       "    </tr>\n",
       "    <tr>\n",
       "      <th>3</th>\n",
       "      <td>344</td>\n",
       "      <td>2016-12-11</td>\n",
       "    </tr>\n",
       "    <tr>\n",
       "      <th>4</th>\n",
       "      <td>344</td>\n",
       "      <td>2016-12-30</td>\n",
       "    </tr>\n",
       "  </tbody>\n",
       "</table>\n",
       "</div>"
      ],
      "text/plain": [
       "   listing_id        date\n",
       "0         109  2011-08-15\n",
       "1         109  2016-05-15\n",
       "2         344  2016-06-14\n",
       "3         344  2016-12-11\n",
       "4         344  2016-12-30"
      ]
     },
     "execution_count": 33,
     "metadata": {},
     "output_type": "execute_result"
    }
   ],
   "source": [
    "reviews = pd.read_csv('reviews.csv')\n",
    "reviews.head()"
   ]
  },
  {
   "cell_type": "code",
   "execution_count": 41,
   "metadata": {},
   "outputs": [
    {
     "data": {
      "text/plain": [
       "(1427153, 2)"
      ]
     },
     "execution_count": 41,
     "metadata": {},
     "output_type": "execute_result"
    }
   ],
   "source": [
    "reviews.shape"
   ]
  },
  {
   "cell_type": "code",
   "execution_count": null,
   "metadata": {},
   "outputs": [],
   "source": []
  }
 ],
 "metadata": {
  "kernelspec": {
   "display_name": "Python 3",
   "language": "python",
   "name": "python3"
  },
  "language_info": {
   "codemirror_mode": {
    "name": "ipython",
    "version": 3
   },
   "file_extension": ".py",
   "mimetype": "text/x-python",
   "name": "python",
   "nbconvert_exporter": "python",
   "pygments_lexer": "ipython3",
   "version": "3.7.1"
  }
 },
 "nbformat": 4,
 "nbformat_minor": 2
}
